{
  "nbformat": 4,
  "nbformat_minor": 0,
  "metadata": {
    "colab": {
      "name": "MachineLearning.ipynb",
      "provenance": []
    },
    "kernelspec": {
      "name": "python3",
      "display_name": "Python 3"
    },
    "language_info": {
      "name": "python"
    }
  },
  "cells": [
    {
      "cell_type": "markdown",
      "metadata": {
        "id": "AXqvc_j2wzMR"
      },
      "source": [
        " **Simple Linear Regression :**\n",
        "\n",
        "*In simple linear regression, we predict the output/dependent variable based on only one input feature. The simple linear regression is given by:*\n",
        "![image.png](data:image/png;base64,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)\n"
      ]
    },
    {
      "cell_type": "markdown",
      "metadata": {
        "id": "ajy8L5toxp5L"
      },
      "source": [
        "**Step by step implementation in Python :**\n",
        "\n",
        "***a.Import required libraries :***\n",
        "\n",
        "Since we are going to use various libraries for calculations, we need to import them.\n"
      ]
    },
    {
      "cell_type": "code",
      "metadata": {
        "id": "9XyRZyquvE_k"
      },
      "source": [
        "# import required libraries :\n",
        "import pandas as pd\n",
        "import numpy as np\n",
        "import matplotlib.pyplot as plt\n",
        "from sklearn import linear_model "
      ],
      "execution_count": 1,
      "outputs": []
    },
    {
      "cell_type": "markdown",
      "metadata": {
        "id": "h4aFiRnczibJ"
      },
      "source": [
        "***b. Read the CSV file :***\n",
        "\n",
        "We check the first five rows of our dataset. In this case, we are using a vehicle model dataset.\n"
      ]
    },
    {
      "cell_type": "code",
      "metadata": {
        "colab": {
          "base_uri": "https://localhost:8080/",
          "height": 278
        },
        "id": "5b3mlpxJ1IXg",
        "outputId": "6b747820-cb59-48ea-81e9-616dcafc9f9f"
      },
      "source": [
        "# Read csv file :\n",
        "data = pd.read_csv(\"Fuel.csv\") \n",
        "data.head()"
      ],
      "execution_count": 2,
      "outputs": [
        {
          "output_type": "execute_result",
          "data": {
            "text/html": [
              "<div>\n",
              "<style scoped>\n",
              "    .dataframe tbody tr th:only-of-type {\n",
              "        vertical-align: middle;\n",
              "    }\n",
              "\n",
              "    .dataframe tbody tr th {\n",
              "        vertical-align: top;\n",
              "    }\n",
              "\n",
              "    .dataframe thead th {\n",
              "        text-align: right;\n",
              "    }\n",
              "</style>\n",
              "<table border=\"1\" class=\"dataframe\">\n",
              "  <thead>\n",
              "    <tr style=\"text-align: right;\">\n",
              "      <th></th>\n",
              "      <th>MODELYEAR</th>\n",
              "      <th>MAKE</th>\n",
              "      <th>MODEL</th>\n",
              "      <th>VEHICLECLASS</th>\n",
              "      <th>ENGINESIZE</th>\n",
              "      <th>CYLINDERS</th>\n",
              "      <th>TRANSMISSION</th>\n",
              "      <th>FUELTYPE</th>\n",
              "      <th>FUELCONSUMPTION_CITY</th>\n",
              "      <th>FUELCONSUMPTION_HWY</th>\n",
              "      <th>FUELCONSUMPTION_COMB</th>\n",
              "      <th>FUELCONSUMPTION_COMB_MPG</th>\n",
              "      <th>CO2EMISSIONS</th>\n",
              "    </tr>\n",
              "  </thead>\n",
              "  <tbody>\n",
              "    <tr>\n",
              "      <th>0</th>\n",
              "      <td>2014</td>\n",
              "      <td>ACURA</td>\n",
              "      <td>ILX</td>\n",
              "      <td>COMPACT</td>\n",
              "      <td>2.0</td>\n",
              "      <td>4</td>\n",
              "      <td>AS5</td>\n",
              "      <td>Z</td>\n",
              "      <td>9.9</td>\n",
              "      <td>6.7</td>\n",
              "      <td>8.5</td>\n",
              "      <td>33</td>\n",
              "      <td>196</td>\n",
              "    </tr>\n",
              "    <tr>\n",
              "      <th>1</th>\n",
              "      <td>2014</td>\n",
              "      <td>ACURA</td>\n",
              "      <td>ILX</td>\n",
              "      <td>COMPACT</td>\n",
              "      <td>2.4</td>\n",
              "      <td>4</td>\n",
              "      <td>M6</td>\n",
              "      <td>Z</td>\n",
              "      <td>11.2</td>\n",
              "      <td>7.7</td>\n",
              "      <td>9.6</td>\n",
              "      <td>29</td>\n",
              "      <td>221</td>\n",
              "    </tr>\n",
              "    <tr>\n",
              "      <th>2</th>\n",
              "      <td>2014</td>\n",
              "      <td>ACURA</td>\n",
              "      <td>ILX HYBRID</td>\n",
              "      <td>COMPACT</td>\n",
              "      <td>1.5</td>\n",
              "      <td>4</td>\n",
              "      <td>AV7</td>\n",
              "      <td>Z</td>\n",
              "      <td>6.0</td>\n",
              "      <td>5.8</td>\n",
              "      <td>5.9</td>\n",
              "      <td>48</td>\n",
              "      <td>136</td>\n",
              "    </tr>\n",
              "    <tr>\n",
              "      <th>3</th>\n",
              "      <td>2014</td>\n",
              "      <td>ACURA</td>\n",
              "      <td>MDX 4WD</td>\n",
              "      <td>SUV - SMALL</td>\n",
              "      <td>3.5</td>\n",
              "      <td>6</td>\n",
              "      <td>AS6</td>\n",
              "      <td>Z</td>\n",
              "      <td>12.7</td>\n",
              "      <td>9.1</td>\n",
              "      <td>11.1</td>\n",
              "      <td>25</td>\n",
              "      <td>255</td>\n",
              "    </tr>\n",
              "    <tr>\n",
              "      <th>4</th>\n",
              "      <td>2014</td>\n",
              "      <td>ACURA</td>\n",
              "      <td>RDX AWD</td>\n",
              "      <td>SUV - SMALL</td>\n",
              "      <td>3.5</td>\n",
              "      <td>6</td>\n",
              "      <td>AS6</td>\n",
              "      <td>Z</td>\n",
              "      <td>12.1</td>\n",
              "      <td>8.7</td>\n",
              "      <td>10.6</td>\n",
              "      <td>27</td>\n",
              "      <td>244</td>\n",
              "    </tr>\n",
              "  </tbody>\n",
              "</table>\n",
              "</div>"
            ],
            "text/plain": [
              "   MODELYEAR   MAKE  ... FUELCONSUMPTION_COMB_MPG CO2EMISSIONS\n",
              "0       2014  ACURA  ...                       33          196\n",
              "1       2014  ACURA  ...                       29          221\n",
              "2       2014  ACURA  ...                       48          136\n",
              "3       2014  ACURA  ...                       25          255\n",
              "4       2014  ACURA  ...                       27          244\n",
              "\n",
              "[5 rows x 13 columns]"
            ]
          },
          "metadata": {},
          "execution_count": 2
        }
      ]
    },
    {
      "cell_type": "markdown",
      "metadata": {
        "id": "7gMm9rcd1Sb8"
      },
      "source": [
        "***c. Select the features we want to consider in predicting values :***\n",
        "\n",
        "Here our goal is to predict the value of “co2 emissions” from the value of “engine size” in our dataset.\n"
      ]
    },
    {
      "cell_type": "code",
      "metadata": {
        "id": "Q_bCRQnh1NGo"
      },
      "source": [
        "data = data[[\"ENGINESIZE\",\"CO2EMISSIONS\"]]"
      ],
      "execution_count": 3,
      "outputs": []
    },
    {
      "cell_type": "markdown",
      "metadata": {
        "id": "GOnqmOPU1vfV"
      },
      "source": [
        "***d. Plot the data :***\n",
        "\n",
        "We can visualize our data on a scatter plot."
      ]
    },
    {
      "cell_type": "code",
      "metadata": {
        "colab": {
          "base_uri": "https://localhost:8080/",
          "height": 280
        },
        "id": "RDOu_Wpu11ar",
        "outputId": "8e3fea45-0a25-4c51-ade5-9f899ef39e32"
      },
      "source": [
        "# ENGINESIZE vs CO2EMISSIONS :\n",
        "plt.scatter(data[\"ENGINESIZE\"],data[\"CO2EMISSIONS\"],color = \"blue\")\n",
        "plt.xlabel(\"ENGINESIZE\")\n",
        "plt.ylabel(\"CO2EMISSIONS\")\n",
        "plt.show()"
      ],
      "execution_count": 4,
      "outputs": [
        {
          "output_type": "display_data",
          "data": {
            "image/png": "[encoded data removed]",
            "text/plain": [
              "<Figure size 432x288 with 1 Axes>"
            ]
          },
          "metadata": {
            "needs_background": "light"
          }
        }
      ]
    },
    {
      "cell_type": "markdown",
      "metadata": {
        "id": "7sCoYm3V3_ut"
      },
      "source": [
        "***e. Divide the data into training and testing data :***\n",
        "\n",
        "To check the accuracy of a model, we are going to divide our data into training and testing datasets. We will use training data to train our model, and then we will check the accuracy of our model using the testing dataset.\n"
      ]
    },
    {
      "cell_type": "code",
      "metadata": {
        "id": "e2I4-Z-W30a4"
      },
      "source": [
        "# Generating training and testing data from our data :\n",
        "# we use 80% data for training.\n",
        "train = data[:(int((len(data)*0.8)))]\n",
        "test = data[(int((len(data)*0.8))):]"
      ],
      "execution_count": 5,
      "outputs": []
    },
    {
      "cell_type": "markdown",
      "metadata": {
        "id": "a3JduyXP5Y5D"
      },
      "source": [
        "***f. Training our model :***\n",
        "\n",
        "Here is how we can train our model and find the coefficients for our best-fit regression line."
      ]
    },
    {
      "cell_type": "code",
      "metadata": {
        "colab": {
          "base_uri": "https://localhost:8080/"
        },
        "id": "o1waakfU5egt",
        "outputId": "201a0244-bfa3-49ea-b5b8-3a3a93c6b67f"
      },
      "source": [
        "# Modeling:\n",
        "# Using sklearn package to model data :\n",
        "regr = linear_model.LinearRegression()\n",
        "train_x = np.array(train[[\"ENGINESIZE\"]])\n",
        "train_y = np.array(train[[\"CO2EMISSIONS\"]])\n",
        "regr.fit(train_x,train_y)\n",
        "# The coefficients:\n",
        "print (\"coefficients : \",regr.coef_) #Slope\n",
        "print (\"Intercept : \",regr.intercept_) #Intercept"
      ],
      "execution_count": 6,
      "outputs": [
        {
          "output_type": "stream",
          "name": "stdout",
          "text": [
            "coefficients :  [[38.79512384]]\n",
            "Intercept :  [127.16989951]\n"
          ]
        }
      ]
    },
    {
      "cell_type": "markdown",
      "metadata": {
        "id": "iL6Y19U96U-3"
      },
      "source": [
        "***g. Plot the best fit line :***\n",
        "\n",
        "Based on the coefficients, we can plot the best fit line for our dataset."
      ]
    },
    {
      "cell_type": "code",
      "metadata": {
        "colab": {
          "base_uri": "https://localhost:8080/",
          "height": 297
        },
        "id": "1sqaNKRS6aLP",
        "outputId": "6c5bbd77-4907-4d2a-d3b2-f60c38302af4"
      },
      "source": [
        "# Plotting the regression line:\n",
        "plt.scatter(train[\"ENGINESIZE\"], train[\"CO2EMISSIONS\"], color=\"blue\")\n",
        "plt.plot(train_x, regr.coef_*train_x + regr.intercept_, '-r')\n",
        "plt.xlabel(\"Engine size\")\n",
        "plt.ylabel(\"Emission\")"
      ],
      "execution_count": 7,
      "outputs": [
        {
          "output_type": "execute_result",
          "data": {
            "text/plain": [
              "Text(0, 0.5, 'Emission')"
            ]
          },
          "metadata": {},
          "execution_count": 7
        },
        {
          "output_type": "display_data",
          "data": {
            "image/png": "[encoded data removed]",
            "text/plain": [
              "<Figure size 432x288 with 1 Axes>"
            ]
          },
          "metadata": {
            "needs_background": "light"
          }
        }
      ]
    },
    {
      "cell_type": "markdown",
      "metadata": {
        "id": "6aD9IFOv6z5A"
      },
      "source": [
        "***h. Prediction function :***\n",
        "\n",
        "We are going to use a prediction function for our testing dataset."
      ]
    },
    {
      "cell_type": "code",
      "metadata": {
        "id": "ocIKAGVh6_Kq"
      },
      "source": [
        "# Predicting values:\n",
        "# Function for predicting future values :\n",
        "def get_regression_predictions(input_features,intercept,slope):\n",
        " predicted_values = input_features*slope + intercept\n",
        " return predicted_values"
      ],
      "execution_count": 8,
      "outputs": []
    },
    {
      "cell_type": "markdown",
      "metadata": {
        "id": "YFHEF8Zh7JCN"
      },
      "source": [
        "***i. Predicting co2 emissions :***\n",
        "\n",
        "Predicting the values of co2 emissions based on the regression line."
      ]
    },
    {
      "cell_type": "code",
      "metadata": {
        "colab": {
          "base_uri": "https://localhost:8080/"
        },
        "id": "W0APGVGI7Ory",
        "outputId": "64603416-9c5e-4cda-c910-b7badb08700a"
      },
      "source": [
        "# Predicting emission for future car:\n",
        "my_engine_size = 3.5\n",
        "estimatd_emission = get_regression_predictions(my_engine_size,regr.intercept_[0],regr.coef_[0][0])\n",
        "print (\"Estimated Emission :\",estimatd_emission)"
      ],
      "execution_count": 9,
      "outputs": [
        {
          "output_type": "stream",
          "name": "stdout",
          "text": [
            "Estimated Emission : 262.9528329350173\n"
          ]
        }
      ]
    },
    {
      "cell_type": "markdown",
      "metadata": {
        "id": "Udmb1A9M7dNt"
      },
      "source": [
        "***j. Checking accuracy for test data :***\n",
        "\n",
        "We can check the accuracy of a model by comparing the actual values with the predicted values in our dataset."
      ]
    },
    {
      "cell_type": "code",
      "metadata": {
        "colab": {
          "base_uri": "https://localhost:8080/"
        },
        "id": "PAgJxq6378gM",
        "outputId": "ac1280e6-fa45-4d69-fa49-1bc7e2e3d749"
      },
      "source": [
        "# Checking various accuracy:\n",
        "from sklearn.metrics import r2_score\n",
        "test_x = np.array(test[['ENGINESIZE']])\n",
        "test_y = np.array(test[['CO2EMISSIONS']])\n",
        "test_y_ = regr.predict(test_x)\n",
        "print(\"Mean absolute error: %.2f\" % np.mean(np.absolute(test_y_-test_y)))\n",
        "print(\"Mean sum of squares (MSE): %.2f\" % np.mean((test_y_-test_y) ** 2))\n",
        "print(\"R2-score: %.2f\" % r2_score(test_y_ , test_y) )"
      ],
      "execution_count": 10,
      "outputs": [
        {
          "output_type": "stream",
          "name": "stdout",
          "text": [
            "Mean absolute error: 20.60\n",
            "Mean sum of squares (MSE): 746.45\n",
            "R2-score: 0.71\n"
          ]
        }
      ]
    }
  ]
}